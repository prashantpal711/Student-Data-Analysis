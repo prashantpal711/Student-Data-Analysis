{
  "nbformat": 4,
  "nbformat_minor": 0,
  "metadata": {
    "colab": {
      "name": "Student_Data_Analysis.ipynb",
      "provenance": []
    },
    "kernelspec": {
      "name": "python3",
      "display_name": "Python 3"
    },
    "language_info": {
      "name": "python"
    }
  },
  "cells": [
    {
      "cell_type": "code",
      "metadata": {
        "colab": {
          "base_uri": "https://localhost:8080/"
        },
        "id": "l6Zwu0soDPlO",
        "outputId": "1a3c0b99-e073-4079-e8fc-f333e6e092ba"
      },
      "source": [
        "!pip install pyspark"
      ],
      "execution_count": 1,
      "outputs": [
        {
          "output_type": "stream",
          "text": [
            "Collecting pyspark\n",
            "\u001b[?25l  Downloading https://files.pythonhosted.org/packages/89/db/e18cfd78e408de957821ec5ca56de1250645b05f8523d169803d8df35a64/pyspark-3.1.2.tar.gz (212.4MB)\n",
            "\u001b[K     |████████████████████████████████| 212.4MB 71kB/s \n",
            "\u001b[?25hCollecting py4j==0.10.9\n",
            "\u001b[?25l  Downloading https://files.pythonhosted.org/packages/9e/b6/6a4fb90cd235dc8e265a6a2067f2a2c99f0d91787f06aca4bcf7c23f3f80/py4j-0.10.9-py2.py3-none-any.whl (198kB)\n",
            "\u001b[K     |████████████████████████████████| 204kB 18.8MB/s \n",
            "\u001b[?25hBuilding wheels for collected packages: pyspark\n",
            "  Building wheel for pyspark (setup.py) ... \u001b[?25l\u001b[?25hdone\n",
            "  Created wheel for pyspark: filename=pyspark-3.1.2-py2.py3-none-any.whl size=212880768 sha256=a2b426ec81e9f308ccf03489433db9e53455baa8ece879972d1abaffb27d5775\n",
            "  Stored in directory: /root/.cache/pip/wheels/40/1b/2c/30f43be2627857ab80062bef1527c0128f7b4070b6b2d02139\n",
            "Successfully built pyspark\n",
            "Installing collected packages: py4j, pyspark\n",
            "Successfully installed py4j-0.10.9 pyspark-3.1.2\n"
          ],
          "name": "stdout"
        }
      ]
    },
    {
      "cell_type": "code",
      "metadata": {
        "id": "3K5g3f2bDXbB"
      },
      "source": [
        "from pyspark import SparkConf, SparkContext\n",
        "conf = SparkConf().setAppName(\"Student Data Analysis\")\n",
        "sc = SparkContext.getOrCreate(conf = conf)"
      ],
      "execution_count": 2,
      "outputs": []
    },
    {
      "cell_type": "code",
      "metadata": {
        "colab": {
          "base_uri": "https://localhost:8080/"
        },
        "id": "Nk9D8k2QDk1u",
        "outputId": "5b11399b-7b3b-40e6-f49b-53a3c818e111"
      },
      "source": [
        "students = sc.textFile('/content/Quiz.csv')\n",
        "students.collect()"
      ],
      "execution_count": 4,
      "outputs": [
        {
          "output_type": "execute_result",
          "data": {
            "text/plain": [
              "['22,MALE,Sam,UI/UX,903260,38,Ann@gmail.com',\n",
              " '29,MALE,Ann,UI/UX,458198,41,Jennifer@gmail.com',\n",
              " '28,MALE,Jennifer,J2EE,448704,37,Jennifer@gmail.com',\n",
              " '28,MALE,Jennifer,Cloud,808250,85,Matt@gmail.com',\n",
              " '22,FEMALE,Matt,UI/UX,586714,63,Jennifer@gmail.com',\n",
              " '20,MALE,Jennifer,DSA,625005,54,Sam@gmail.com',\n",
              " '27,MALE,Sam,J2EE,162397,73,Matt@gmail.com',\n",
              " '26,FEMALE,Matt,Cloud,275020,52,Ann@gmail.com',\n",
              " '28,FEMALE,Ann,UI/UX,562617,95,Jennifer@gmail.com',\n",
              " '21,MALE,Jennifer,DSA,954555,63,Ann@gmail.com',\n",
              " '29,MALE,Ann,J2EE,166986,97,Sam@gmail.com',\n",
              " '30,MALE,Sam,J2EE,727913,35,Ann@gmail.com',\n",
              " '27,MALE,Ann,Big Data,463662,65,Jennifer@gmail.com',\n",
              " '22,FEMALE,Jennifer,J2EE,695361,52,Ann@gmail.com',\n",
              " '29,FEMALE,Ann,UI/UX,165443,54,Jennifer@gmail.com',\n",
              " '24,FEMALE,Jennifer,Cloud,247344,92,Matt@gmail.com',\n",
              " '20,MALE,Matt,Big Data,960349,85,Sam@gmail.com',\n",
              " '28,MALE,Sam,J2EE,198723,31,Ann@gmail.com',\n",
              " '28,FEMALE,Ann,J2EE,760381,43,Sam@gmail.com',\n",
              " '25,FEMALE,Sam,Big Data,272767,84,Ann@gmail.com']"
            ]
          },
          "metadata": {
            "tags": []
          },
          "execution_count": 4
        }
      ]
    },
    {
      "cell_type": "markdown",
      "metadata": {
        "id": "jH1PenuLD-vP"
      },
      "source": [
        "Show the number of students in the dataset."
      ]
    },
    {
      "cell_type": "code",
      "metadata": {
        "colab": {
          "base_uri": "https://localhost:8080/"
        },
        "id": "uA2dQ6SKDtDO",
        "outputId": "89fda673-8147-4eb8-9c43-3e5a4fd3d8d7"
      },
      "source": [
        "students.count()"
      ],
      "execution_count": 5,
      "outputs": [
        {
          "output_type": "execute_result",
          "data": {
            "text/plain": [
              "20"
            ]
          },
          "metadata": {
            "tags": []
          },
          "execution_count": 5
        }
      ]
    },
    {
      "cell_type": "markdown",
      "metadata": {
        "id": "Z75nOctAEZhw"
      },
      "source": [
        "Show the total marks achieved by Male and Female Students"
      ]
    },
    {
      "cell_type": "code",
      "metadata": {
        "colab": {
          "base_uri": "https://localhost:8080/"
        },
        "id": "TWW2_3R4ENzY",
        "outputId": "91c0aaad-aa79-43dd-e3c7-c507715523c2"
      },
      "source": [
        "students_data = students.map(lambda x: x.split(','))\n",
        "students_data2 = students_data.map(lambda x: (x[1],int(x[5])))\n",
        "students_data2.reduceByKey(lambda x,y : x+y).collect()"
      ],
      "execution_count": 14,
      "outputs": [
        {
          "output_type": "execute_result",
          "data": {
            "text/plain": [
              "[('MALE', 704), ('FEMALE', 535)]"
            ]
          },
          "metadata": {
            "tags": []
          },
          "execution_count": 14
        }
      ]
    },
    {
      "cell_type": "markdown",
      "metadata": {
        "id": "2Kr9e2XlGoFp"
      },
      "source": [
        "Show the total number of students that have passed (passing score = 50+)"
      ]
    },
    {
      "cell_type": "code",
      "metadata": {
        "colab": {
          "base_uri": "https://localhost:8080/"
        },
        "id": "LXmNlSDRE0xs",
        "outputId": "364f3ce5-bd35-4926-a9c2-f7fe7961538a"
      },
      "source": [
        "students_data3 = students_data.filter(lambda x: int(x[5])>50)\n",
        "students_data3.count()"
      ],
      "execution_count": 39,
      "outputs": [
        {
          "output_type": "execute_result",
          "data": {
            "text/plain": [
              "14"
            ]
          },
          "metadata": {
            "tags": []
          },
          "execution_count": 39
        }
      ]
    },
    {
      "cell_type": "markdown",
      "metadata": {
        "id": "pR-o61mGLwzW"
      },
      "source": [
        "Show the total Number of Students enrolled per course"
      ]
    },
    {
      "cell_type": "code",
      "metadata": {
        "colab": {
          "base_uri": "https://localhost:8080/"
        },
        "id": "szibw8qKHn45",
        "outputId": "cf8dbc4d-efc2-46e1-f89c-5a3af1a17aea"
      },
      "source": [
        "courses = students_data.map(lambda x: (x[3], 1))\n",
        "courses.reduceByKey(lambda x,y : x+y).collect()"
      ],
      "execution_count": 41,
      "outputs": [
        {
          "output_type": "execute_result",
          "data": {
            "text/plain": [
              "[('Cloud', 3), ('Big Data', 3), ('UI/UX', 5), ('J2EE', 7), ('DSA', 2)]"
            ]
          },
          "metadata": {
            "tags": []
          },
          "execution_count": 41
        }
      ]
    },
    {
      "cell_type": "markdown",
      "metadata": {
        "id": "gAwE5r5_NnEm"
      },
      "source": [
        "Show the total marks that students has achieved per course"
      ]
    },
    {
      "cell_type": "code",
      "metadata": {
        "colab": {
          "base_uri": "https://localhost:8080/"
        },
        "id": "tZ2GrRTGLpu7",
        "outputId": "a76d42fa-e32e-4ec0-ff13-1d3ec8a31b33"
      },
      "source": [
        "courses1 = students_data.map(lambda x: (x[3], int(x[5])))\n",
        "courses1.reduceByKey(lambda x,y : x+y).collect()"
      ],
      "execution_count": 42,
      "outputs": [
        {
          "output_type": "execute_result",
          "data": {
            "text/plain": [
              "[('Cloud', 229),\n",
              " ('Big Data', 234),\n",
              " ('UI/UX', 291),\n",
              " ('J2EE', 368),\n",
              " ('DSA', 117)]"
            ]
          },
          "metadata": {
            "tags": []
          },
          "execution_count": 42
        }
      ]
    },
    {
      "cell_type": "markdown",
      "metadata": {
        "id": "G0ZOFp1SOAgd"
      },
      "source": [
        "Show the average marks that students has achieved per course"
      ]
    },
    {
      "cell_type": "code",
      "metadata": {
        "colab": {
          "base_uri": "https://localhost:8080/"
        },
        "id": "UVwVUma8N4um",
        "outputId": "01939510-3bec-4805-d684-8c099f4e34d6"
      },
      "source": [
        "courses1 = students_data.map(lambda x: (x[3], (int(x[5]),1))).reduceByKey(lambda x,y : (x[0]+y[0], x[1]+y[1])).map(lambda x : (x[0] , x[1][0]/x[1][1]))\n",
        "courses1.collect()"
      ],
      "execution_count": 47,
      "outputs": [
        {
          "output_type": "execute_result",
          "data": {
            "text/plain": [
              "[('Cloud', 76.33333333333333),\n",
              " ('Big Data', 78.0),\n",
              " ('UI/UX', 58.2),\n",
              " ('J2EE', 52.57142857142857),\n",
              " ('DSA', 58.5)]"
            ]
          },
          "metadata": {
            "tags": []
          },
          "execution_count": 47
        }
      ]
    },
    {
      "cell_type": "markdown",
      "metadata": {
        "id": "xAesV-c1Pekx"
      },
      "source": [
        "Show the Minimum and Maximum marks that students has achieved per course"
      ]
    },
    {
      "cell_type": "code",
      "metadata": {
        "colab": {
          "base_uri": "https://localhost:8080/"
        },
        "id": "73ZgS2_eOk24",
        "outputId": "e706c3dc-268e-43e8-e653-6bbbee6e41c7"
      },
      "source": [
        "courses1 = students_data.map(lambda x: (x[3], int(x[5])))\n",
        "courses2 = courses1.groupByKey().mapValues(list).map(lambda x : (x[0] , min(x[1])))\n",
        "print(\"Minimum : \" , courses2.collect())\n",
        "courses3 = courses1.groupByKey().mapValues(list).map(lambda x : (x[0] , max(x[1])))\n",
        "print(\"Maximum : \" , courses3.collect())"
      ],
      "execution_count": 60,
      "outputs": [
        {
          "output_type": "stream",
          "text": [
            "Minimum :  [('Cloud', 52), ('Big Data', 65), ('UI/UX', 38), ('J2EE', 31), ('DSA', 54)]\n",
            "Maximum :  [('Cloud', 92), ('Big Data', 85), ('UI/UX', 95), ('J2EE', 97), ('DSA', 63)]\n"
          ],
          "name": "stdout"
        }
      ]
    },
    {
      "cell_type": "markdown",
      "metadata": {
        "id": "0f14ovIzR-mW"
      },
      "source": [
        "Show the average age of male and female students."
      ]
    },
    {
      "cell_type": "code",
      "metadata": {
        "colab": {
          "base_uri": "https://localhost:8080/"
        },
        "id": "H2rP-KEQP2z3",
        "outputId": "cfa34f3d-74fa-4d05-ab0d-5ad3670dc7ad"
      },
      "source": [
        "avg_age = students_data.map(lambda x: (x[1], int(x[0])))\n",
        "avg_age.groupByKey().mapValues(list).map(lambda x : (x[0] , sum(x[1])/len(x[1]))).collect()"
      ],
      "execution_count": 62,
      "outputs": [
        {
          "output_type": "execute_result",
          "data": {
            "text/plain": [
              "[('MALE', 25.75), ('FEMALE', 25.5)]"
            ]
          },
          "metadata": {
            "tags": []
          },
          "execution_count": 62
        }
      ]
    },
    {
      "cell_type": "code",
      "metadata": {
        "id": "ZJ6wT_etRml9"
      },
      "source": [
        ""
      ],
      "execution_count": null,
      "outputs": []
    }
  ]
}